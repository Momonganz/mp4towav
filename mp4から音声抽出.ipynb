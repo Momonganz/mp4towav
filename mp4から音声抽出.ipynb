{
 "cells": [
  {
   "cell_type": "code",
   "execution_count": null,
   "id": "df4f9e88-7b7a-481b-8259-6b55b5469d1a",
   "metadata": {},
   "outputs": [],
   "source": [
    "from pydub import AudioSegment\n",
    "\n",
    "def extract_audio(video_path, audio_path):\n",
    "    # mp4から音声を抽出\n",
    "    audio = AudioSegment.from_file(video_path, format=\"mp4\")\n",
    "    # WAVとして保存\n",
    "    audio.export(audio_path, format=\"wav\")\n",
    "\n",
    "# 使用例\n",
    "video_path = \"ディレクトリ\"\n",
    "audio_path = \"ディレクトリ\"\n",
    "extract_audio(video_path, audio_path)"
   ]
  },
  {
   "cell_type": "code",
   "execution_count": null,
   "id": "5127b381-d38f-4c8a-8fad-dcb44f97ec05",
   "metadata": {},
   "outputs": [],
   "source": []
  }
 ],
 "metadata": {
  "kernelspec": {
   "display_name": "Python [conda env:firecrawl_env]",
   "language": "python",
   "name": "conda-env-firecrawl_env-py"
  },
  "language_info": {
   "codemirror_mode": {
    "name": "ipython",
    "version": 3
   },
   "file_extension": ".py",
   "mimetype": "text/x-python",
   "name": "python",
   "nbconvert_exporter": "python",
   "pygments_lexer": "ipython3",
   "version": "3.9.21"
  }
 },
 "nbformat": 4,
 "nbformat_minor": 5
}
